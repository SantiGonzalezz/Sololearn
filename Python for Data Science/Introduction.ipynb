{
 "cells": [
  {
   "cell_type": "markdown",
   "metadata": {},
   "source": [
    "## Basketball Players\n",
    "\n",
    "\n",
    "The given code includes a list of heights for various basketball players.\n",
    "\n",
    "You need to calculate and output how many players are in the range of one standard deviation from the mean.\n",
    "\n",
    "- Output the result using the print statement."
   ]
  },
  {
   "cell_type": "code",
   "execution_count": 8,
   "metadata": {},
   "outputs": [
    {
     "name": "stdout",
     "output_type": "stream",
     "text": [
      "6\n"
     ]
    }
   ],
   "source": [
    "players = [180, 172, 178, 185, 190, 195, 192, 200, 210, 190]\n",
    "\n",
    "mean = sum(players)/len(players)\n",
    "var_array = [(i - mean)**2 for i in players]\n",
    "\n",
    "var = sum(var_array)/len(var_array)\n",
    "std = var**(1/2)\n",
    "\n",
    "in_range = []\n",
    "\n",
    "for i in players:\n",
    "    if (mean - std) <= i and i <= (mean + std):\n",
    "        in_range.append(i)\n",
    "\n",
    "print(len(in_range))"
   ]
  }
 ],
 "metadata": {
  "kernelspec": {
   "display_name": "Python 3.10.5 64-bit (system)",
   "language": "python",
   "name": "python3"
  },
  "language_info": {
   "name": "python",
   "version": "3.10.5"
  },
  "orig_nbformat": 4,
  "vscode": {
   "interpreter": {
    "hash": "b50ed6ac63a8ec1bd52de7044bf180293ce2cc06f07684af7b8f6a1d7629c741"
   }
  }
 },
 "nbformat": 4,
 "nbformat_minor": 2
}
