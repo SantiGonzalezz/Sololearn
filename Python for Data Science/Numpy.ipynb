{
 "cells": [
  {
   "cell_type": "markdown",
   "metadata": {},
   "source": [
    "# Numpy\n",
    "\n",
    "**Properties**\n",
    "\n",
    "- `ndim`\n",
    "- `size`\n",
    "- `shape`\n",
    "\n",
    "**Functions**\n",
    "\n",
    "Basics `np.function(x)`\n",
    "- `array()`\n",
    "- `arange()`\n",
    "- `reshape()`*\n",
    "\n",
    "Manipulating `np.function(x)`\n",
    "- `append()`\n",
    "- `delete()`\n",
    "- `sort()`\n",
    "\n",
    "Operations `x.function()`\n",
    "- `sum()`\n",
    "- `min()`\n",
    "- `max()`\n",
    "\n",
    "Statistics `np.function(x)`\n",
    "- `mean()`\n",
    "- `median()`\n",
    "- `var()`\n",
    "- `std()`"
   ]
  },
  {
   "cell_type": "code",
   "execution_count": 1,
   "metadata": {},
   "outputs": [],
   "source": [
    "import numpy as np"
   ]
  },
  {
   "cell_type": "code",
   "execution_count": 2,
   "metadata": {},
   "outputs": [
    {
     "name": "stdout",
     "output_type": "stream",
     "text": [
      "2 9 (3, 3)\n"
     ]
    }
   ],
   "source": [
    "x = np.array([[1, 2, 3], [4, 5, 6], [7, 8, 9]])\n",
    " \n",
    "# x[1][2] == x[1, 2]\n",
    "\n",
    "print(x.ndim, x.size, x.shape)"
   ]
  },
  {
   "cell_type": "code",
   "execution_count": 3,
   "metadata": {},
   "outputs": [
    {
     "name": "stdout",
     "output_type": "stream",
     "text": [
      "[2 1 3 4]\n",
      "[2 1 4]\n",
      "[1 2 4]\n"
     ]
    }
   ],
   "source": [
    "x = np.array([2, 1, 3])\n",
    "\n",
    "x = np.append(x, 4)\n",
    "print(x)\n",
    "\n",
    "# deletes the element in the index given\n",
    "x = np.delete(x, 2)\n",
    "print(x)\n",
    "\n",
    "x = np.sort(x)\n",
    "print(x)"
   ]
  },
  {
   "cell_type": "code",
   "execution_count": 4,
   "metadata": {},
   "outputs": [
    {
     "name": "stdout",
     "output_type": "stream",
     "text": [
      "[1 2 3 4 5 6]\n",
      "[[1 2]\n",
      " [3 4]\n",
      " [5 6]]\n"
     ]
    }
   ],
   "source": [
    "x = np.arange(1, 7, 1)\n",
    "print(x)\n",
    "\n",
    "z = x.reshape((3, 2))\n",
    "print(z)"
   ]
  },
  {
   "cell_type": "code",
   "execution_count": 5,
   "metadata": {},
   "outputs": [
    {
     "name": "stdout",
     "output_type": "stream",
     "text": [
      "[1 2 3 4 5 6 7 8 9]\n",
      "[1 2]\n",
      "[7 8 9]\n"
     ]
    }
   ],
   "source": [
    "x = np.arange(1, 10)\n",
    "print(x)\n",
    "print(x[0:2])\n",
    "print(x[-3:])\n"
   ]
  },
  {
   "cell_type": "code",
   "execution_count": 6,
   "metadata": {},
   "outputs": [
    {
     "name": "stdout",
     "output_type": "stream",
     "text": [
      "[1 2 3 4 5 6 7 8 9] [6 8]\n"
     ]
    }
   ],
   "source": [
    "x = np.arange(1, 10)\n",
    "\n",
    "y = (x > 5) & (x % 2 == 0)\n",
    "\n",
    "print(x, x[y])"
   ]
  },
  {
   "cell_type": "code",
   "execution_count": 7,
   "metadata": {},
   "outputs": [
    {
     "data": {
      "text/plain": [
       "(array([1, 2, 3, 4, 5, 6, 7, 8, 9]), 45)"
      ]
     },
     "execution_count": 7,
     "metadata": {},
     "output_type": "execute_result"
    }
   ],
   "source": [
    "x = np.arange(1, 10)\n",
    "x, x.sum()"
   ]
  },
  {
   "cell_type": "code",
   "execution_count": 8,
   "metadata": {},
   "outputs": [
    {
     "data": {
      "text/plain": [
       "(array([1, 2, 3, 4, 5, 6, 7, 8, 9]),\n",
       " array([ 2,  4,  6,  8, 10, 12, 14, 16, 18]))"
      ]
     },
     "execution_count": 8,
     "metadata": {},
     "output_type": "execute_result"
    }
   ],
   "source": [
    "x = np.arange(1, 10)\n",
    "y = x*2\n",
    "x, y"
   ]
  },
  {
   "cell_type": "code",
   "execution_count": 9,
   "metadata": {},
   "outputs": [
    {
     "name": "stdout",
     "output_type": "stream",
     "text": [
      "33.111111111111114 26.0 292.5432098765432 17.10389458212787\n"
     ]
    }
   ],
   "source": [
    "x = np.array([14, 18, 19, 24, 26, 33, 42, 55, 67])\n",
    "print(np.mean(x), np.median(x), np.var(x), np.std(x))"
   ]
  },
  {
   "cell_type": "markdown",
   "metadata": {},
   "source": [
    "# House Prices\n",
    "\n",
    "You are given an array that represents house prices.\n",
    "\n",
    "Calculate and output the percentage of houses that are within one standard deviation from the mean.\n",
    "\n",
    "- To calculate the percentage, divide the number of houses that satisfy the condition by the total number of houses, and multiply the result by 100."
   ]
  },
  {
   "cell_type": "code",
   "execution_count": 10,
   "metadata": {},
   "outputs": [
    {
     "name": "stdout",
     "output_type": "stream",
     "text": [
      "62.5\n"
     ]
    }
   ],
   "source": [
    "data = np.array([150000, 125000, 320000, 540000, 200000, 120000, 160000, 230000, 280000, 290000, 300000, 500000, 420000, 100000, 150000, 280000])\n",
    "\n",
    "std = np.std(data)\n",
    "mean = np.mean(data)\n",
    "\n",
    "between = ((mean - std) <= data) & (data <= (mean + std))\n",
    "\n",
    "slice_arr = data[between]\n",
    "\n",
    "print(slice_arr.size / data.size * 100) "
   ]
  }
 ],
 "metadata": {
  "kernelspec": {
   "display_name": "Python 3.10.5 64-bit (system)",
   "language": "python",
   "name": "python3"
  },
  "language_info": {
   "codemirror_mode": {
    "name": "ipython",
    "version": 3
   },
   "file_extension": ".py",
   "mimetype": "text/x-python",
   "name": "python",
   "nbconvert_exporter": "python",
   "pygments_lexer": "ipython3",
   "version": "3.10.5"
  },
  "orig_nbformat": 4,
  "vscode": {
   "interpreter": {
    "hash": "b50ed6ac63a8ec1bd52de7044bf180293ce2cc06f07684af7b8f6a1d7629c741"
   }
  }
 },
 "nbformat": 4,
 "nbformat_minor": 2
}
