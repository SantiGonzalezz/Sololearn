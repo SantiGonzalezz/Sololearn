{
 "cells": [
  {
   "cell_type": "markdown",
   "metadata": {},
   "source": [
    "# Matplotlib App"
   ]
  },
  {
   "cell_type": "markdown",
   "metadata": {},
   "source": [
    "## Types of plots\n",
    "\n",
    "- **Bar:** bar\n",
    "- **Barh:** horizontal bar\n",
    "- **Boxplot:** box and whisker\n",
    "- **Hist:** histogram\n",
    "- **Hist2d:** 2D histogram\n",
    "- **Pie:** pie chart\n",
    "- **Plot:** lines and/or markers\n",
    "- **Polar:** polar\n",
    "- **Scatter:** scatter plot of two variables x and y\n",
    "- **Stackplot:** stacked area\n",
    "- **Stem:** step plot\n",
    "- **Quiver:** 2D field of arrows"
   ]
  },
  {
   "cell_type": "markdown",
   "metadata": {},
   "source": [
    "## Axis Functions\n",
    "\n",
    "- **Axes:** add axes to the figure\n",
    "- **Text:** add text to axis\n",
    "- **Title:** set title of current axs\n",
    "- **Xlabel:** set x axis label of current axis\n",
    "- **Xlim:** get or set x limits of the current axes\n",
    "- **Xscale:** set x-axis scale\n",
    "- **Ylabel:** set x axis label of current axis\n",
    "- **Ylim:** get or set x limits of the current axes\n",
    "- **Yscale:** set x-axis scale\n",
    "- **Yticks:** Get or set the current tick locations and labels of the y-axis."
   ]
  },
  {
   "cell_type": "markdown",
   "metadata": {},
   "source": [
    "## Figure Functions\n",
    "\n",
    "Figtext: add text to figure\n",
    "Figure: creates a new figure\n",
    "Show: display the figure"
   ]
  },
  {
   "cell_type": "code",
   "execution_count": 1,
   "metadata": {},
   "outputs": [],
   "source": [
    "import matplotlib.pyplot as plt"
   ]
  },
  {
   "cell_type": "code",
   "execution_count": null,
   "metadata": {},
   "outputs": [],
   "source": []
  }
 ],
 "metadata": {
  "kernelspec": {
   "display_name": "Python 3.10.6 64-bit",
   "language": "python",
   "name": "python3"
  },
  "language_info": {
   "codemirror_mode": {
    "name": "ipython",
    "version": 3
   },
   "file_extension": ".py",
   "mimetype": "text/x-python",
   "name": "python",
   "nbconvert_exporter": "python",
   "pygments_lexer": "ipython3",
   "version": "3.10.6"
  },
  "orig_nbformat": 4,
  "vscode": {
   "interpreter": {
    "hash": "dd14f85466f1c1274a7f813c7e51936489923580ae52659433b733773b1a6a00"
   }
  }
 },
 "nbformat": 4,
 "nbformat_minor": 2
}
